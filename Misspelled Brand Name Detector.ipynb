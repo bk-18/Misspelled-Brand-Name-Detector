{
 "cells": [
  {
   "cell_type": "code",
   "execution_count": 28,
   "metadata": {},
   "outputs": [],
   "source": [
    "import pandas as pd\n",
    "import numpy as np"
   ]
  },
  {
   "cell_type": "markdown",
   "metadata": {},
   "source": [
    "# テストデータ作成"
   ]
  },
  {
   "cell_type": "markdown",
   "metadata": {},
   "source": [
    "正しいブランド名の辞書  \n",
    "この辞書にある単語との距離を計算し、類似した単語を出力する関数を作成する"
   ]
  },
  {
   "cell_type": "code",
   "execution_count": 29,
   "metadata": {},
   "outputs": [
    {
     "data": {
      "text/plain": [
       "['Vuitton', 'Gucci']"
      ]
     },
     "execution_count": 29,
     "metadata": {},
     "output_type": "execute_result"
    }
   ],
   "source": [
    "brand_list = [\"Vuitton\", \"Gucci\"]\n",
    "\n",
    "brand_list"
   ]
  },
  {
   "cell_type": "markdown",
   "metadata": {},
   "source": [
    "\"item_title\"が今回判別対象の商品名  \n",
    "\"Vuitton\"と\"Gucci\"の正しいスペルと間違ったスペルの入った商品名をテストデータとして作成"
   ]
  },
  {
   "cell_type": "code",
   "execution_count": 30,
   "metadata": {},
   "outputs": [],
   "source": [
    "item_title = [\"Pochette voyage Louis Vuitton\",\n",
    "\"Pochette voyage Louis Vuiton\",\n",
    "\"Pochette voyage Louis Vuittonn\",\n",
    "\"Genuine Gucci 1980’s Vintage Navy Blue Boston Bag\",\n",
    "\"Genuine Guchi 1980’s Vintage Navy Blue Boston Bag\",\n",
    "\"Genuine Gutti 1980’s Vintage Navy Blue Boston Bag\",\n",
    "\"Vuittonn and Gutti\"\n",
    "             ]"
   ]
  },
  {
   "cell_type": "markdown",
   "metadata": {},
   "source": [
    "データフレームにセット  \n",
    "これが分析対象のデータフレーム"
   ]
  },
  {
   "cell_type": "code",
   "execution_count": 31,
   "metadata": {},
   "outputs": [
    {
     "data": {
      "text/html": [
       "<div>\n",
       "<style scoped>\n",
       "    .dataframe tbody tr th:only-of-type {\n",
       "        vertical-align: middle;\n",
       "    }\n",
       "\n",
       "    .dataframe tbody tr th {\n",
       "        vertical-align: top;\n",
       "    }\n",
       "\n",
       "    .dataframe thead th {\n",
       "        text-align: right;\n",
       "    }\n",
       "</style>\n",
       "<table border=\"1\" class=\"dataframe\">\n",
       "  <thead>\n",
       "    <tr style=\"text-align: right;\">\n",
       "      <th></th>\n",
       "      <th>id</th>\n",
       "      <th>item_title</th>\n",
       "    </tr>\n",
       "  </thead>\n",
       "  <tbody>\n",
       "    <tr>\n",
       "      <th>0</th>\n",
       "      <td>0</td>\n",
       "      <td>Pochette voyage Louis Vuitton</td>\n",
       "    </tr>\n",
       "    <tr>\n",
       "      <th>1</th>\n",
       "      <td>1</td>\n",
       "      <td>Pochette voyage Louis Vuiton</td>\n",
       "    </tr>\n",
       "    <tr>\n",
       "      <th>2</th>\n",
       "      <td>2</td>\n",
       "      <td>Pochette voyage Louis Vuittonn</td>\n",
       "    </tr>\n",
       "    <tr>\n",
       "      <th>3</th>\n",
       "      <td>3</td>\n",
       "      <td>Genuine Gucci 1980’s Vintage Navy Blue Boston Bag</td>\n",
       "    </tr>\n",
       "    <tr>\n",
       "      <th>4</th>\n",
       "      <td>4</td>\n",
       "      <td>Genuine Guchi 1980’s Vintage Navy Blue Boston Bag</td>\n",
       "    </tr>\n",
       "    <tr>\n",
       "      <th>5</th>\n",
       "      <td>5</td>\n",
       "      <td>Genuine Gutti 1980’s Vintage Navy Blue Boston Bag</td>\n",
       "    </tr>\n",
       "    <tr>\n",
       "      <th>6</th>\n",
       "      <td>6</td>\n",
       "      <td>Vuittonn and Gutti</td>\n",
       "    </tr>\n",
       "  </tbody>\n",
       "</table>\n",
       "</div>"
      ],
      "text/plain": [
       "   id                                         item_title\n",
       "0   0                      Pochette voyage Louis Vuitton\n",
       "1   1                       Pochette voyage Louis Vuiton\n",
       "2   2                     Pochette voyage Louis Vuittonn\n",
       "3   3  Genuine Gucci 1980’s Vintage Navy Blue Boston Bag\n",
       "4   4  Genuine Guchi 1980’s Vintage Navy Blue Boston Bag\n",
       "5   5  Genuine Gutti 1980’s Vintage Navy Blue Boston Bag\n",
       "6   6                                 Vuittonn and Gutti"
      ]
     },
     "execution_count": 31,
     "metadata": {},
     "output_type": "execute_result"
    }
   ],
   "source": [
    "df = pd.DataFrame({\n",
    "    \"id\":pd.Series(range(0,len(item_title))),\n",
    "    \"item_title\":item_title\n",
    "})\n",
    "\n",
    "df"
   ]
  },
  {
   "cell_type": "markdown",
   "metadata": {},
   "source": [
    "# Levenshtein Distance"
   ]
  },
  {
   "cell_type": "code",
   "execution_count": 32,
   "metadata": {},
   "outputs": [],
   "source": [
    "import pandas as pd\n",
    "import numpy as np\n",
    "from itertools import chain\n",
    "import Levenshtein"
   ]
  },
  {
   "cell_type": "markdown",
   "metadata": {},
   "source": [
    "引数  \n",
    "df：\"id\"と\"item_title\"をもつデータフレーム  \n",
    "brand_list：抽出したい正しいブランド名をもつリスト  \n",
    "dist：距離の閾値。Levenshtein Distanceの場合は値が**小さいほど類似度が高い**"
   ]
  },
  {
   "cell_type": "code",
   "execution_count": 33,
   "metadata": {},
   "outputs": [],
   "source": [
    "def levenshtein_similarity(df, brand_list, dist_thresh = 0.5):\n",
    "    # 小文字に揃える\n",
    "    df[\"item_title\"] = df[\"item_title\"].str.lower()\n",
    "    brand_list = [c.lower() for c in brand_list]\n",
    "    \n",
    "    # 商品名を単語に分割\n",
    "    title_list = list(set(chain.from_iterable(df[\"item_title\"].str.split(\" \").tolist())))\n",
    "\n",
    "    word_miss = []\n",
    "    word_corr = []\n",
    "    word_dist = []\n",
    "\n",
    "    # 商品名の単語とブランド名の単語を総当りで距離計算\n",
    "    # 閾値を超えた単語とその距離を格納しておく\n",
    "    for word_test in title_list:\n",
    "        for word_dict in brand_list:\n",
    "                # 文字数で正規化\n",
    "                dist = Levenshtein.distance(word_test, word_dict)/(max(len(word_test), len(word_dict)))\n",
    "                # 距離が閾値未満。また、距離が0すなわちブランド名辞書と完全に合致したものは除外。\n",
    "                if dist < dist_thresh and dist != 0:\n",
    "                    word_miss.append(word_test)\n",
    "                    word_corr.append(word_dict)\n",
    "                    word_dist.append(round(dist, 3))\n",
    "\n",
    "    result = pd.DataFrame(columns={\"id\", \"item_title\"})\n",
    "\n",
    "    # ミススペルがあった単語と、その単語の正しいスペルと判定されたもの、それらの距離をもつデータフレームを作成\n",
    "    for m,c,d in zip(word_miss, word_corr, word_dist):\n",
    "            # スペルミスのあった行を抽出\n",
    "            temp = df.loc[df[\"item_title\"].str.contains(m), :].copy()\n",
    "            # 単語と距離をそれぞれのカラムに格納\n",
    "            temp.loc[temp[\"item_title\"].str.contains(m), \"miss_word\"] = m\n",
    "            temp.loc[temp[\"item_title\"].str.contains(m), \"corr_word\"] = c\n",
    "            temp.loc[temp[\"item_title\"].str.contains(m), \"distance\"] = d\n",
    "            result = result.append(temp, sort = False).sort_values(by = \"id\")\n",
    "            result = result.loc[:, [\"id\", \"item_title\", \"miss_word\", \"corr_word\", \"distance\"]]\n",
    "\n",
    "    return result"
   ]
  },
  {
   "cell_type": "markdown",
   "metadata": {},
   "source": [
    "出力結果  \n",
    "miss_word：スペルミスと判定された単語  \n",
    "corr_word：正しいスペルと判定されたブランド名  \n",
    "distance：levenshtein距離。値が**小さいほど類似している**"
   ]
  },
  {
   "cell_type": "code",
   "execution_count": 34,
   "metadata": {},
   "outputs": [
    {
     "data": {
      "text/html": [
       "<div>\n",
       "<style scoped>\n",
       "    .dataframe tbody tr th:only-of-type {\n",
       "        vertical-align: middle;\n",
       "    }\n",
       "\n",
       "    .dataframe tbody tr th {\n",
       "        vertical-align: top;\n",
       "    }\n",
       "\n",
       "    .dataframe thead th {\n",
       "        text-align: right;\n",
       "    }\n",
       "</style>\n",
       "<table border=\"1\" class=\"dataframe\">\n",
       "  <thead>\n",
       "    <tr style=\"text-align: right;\">\n",
       "      <th></th>\n",
       "      <th>id</th>\n",
       "      <th>item_title</th>\n",
       "      <th>miss_word</th>\n",
       "      <th>corr_word</th>\n",
       "      <th>distance</th>\n",
       "    </tr>\n",
       "  </thead>\n",
       "  <tbody>\n",
       "    <tr>\n",
       "      <th>1</th>\n",
       "      <td>1</td>\n",
       "      <td>pochette voyage louis vuiton</td>\n",
       "      <td>vuiton</td>\n",
       "      <td>vuitton</td>\n",
       "      <td>0.143</td>\n",
       "    </tr>\n",
       "    <tr>\n",
       "      <th>2</th>\n",
       "      <td>2</td>\n",
       "      <td>pochette voyage louis vuittonn</td>\n",
       "      <td>vuittonn</td>\n",
       "      <td>vuitton</td>\n",
       "      <td>0.125</td>\n",
       "    </tr>\n",
       "    <tr>\n",
       "      <th>4</th>\n",
       "      <td>4</td>\n",
       "      <td>genuine guchi 1980’s vintage navy blue boston bag</td>\n",
       "      <td>guchi</td>\n",
       "      <td>gucci</td>\n",
       "      <td>0.200</td>\n",
       "    </tr>\n",
       "    <tr>\n",
       "      <th>5</th>\n",
       "      <td>5</td>\n",
       "      <td>genuine gutti 1980’s vintage navy blue boston bag</td>\n",
       "      <td>gutti</td>\n",
       "      <td>gucci</td>\n",
       "      <td>0.400</td>\n",
       "    </tr>\n",
       "    <tr>\n",
       "      <th>6</th>\n",
       "      <td>6</td>\n",
       "      <td>vuittonn and gutti</td>\n",
       "      <td>vuittonn</td>\n",
       "      <td>vuitton</td>\n",
       "      <td>0.125</td>\n",
       "    </tr>\n",
       "    <tr>\n",
       "      <th>6</th>\n",
       "      <td>6</td>\n",
       "      <td>vuittonn and gutti</td>\n",
       "      <td>gutti</td>\n",
       "      <td>gucci</td>\n",
       "      <td>0.400</td>\n",
       "    </tr>\n",
       "  </tbody>\n",
       "</table>\n",
       "</div>"
      ],
      "text/plain": [
       "  id                                         item_title miss_word corr_word  \\\n",
       "1  1                       pochette voyage louis vuiton    vuiton   vuitton   \n",
       "2  2                     pochette voyage louis vuittonn  vuittonn   vuitton   \n",
       "4  4  genuine guchi 1980’s vintage navy blue boston bag     guchi     gucci   \n",
       "5  5  genuine gutti 1980’s vintage navy blue boston bag     gutti     gucci   \n",
       "6  6                                 vuittonn and gutti  vuittonn   vuitton   \n",
       "6  6                                 vuittonn and gutti     gutti     gucci   \n",
       "\n",
       "   distance  \n",
       "1     0.143  \n",
       "2     0.125  \n",
       "4     0.200  \n",
       "5     0.400  \n",
       "6     0.125  \n",
       "6     0.400  "
      ]
     },
     "execution_count": 34,
     "metadata": {},
     "output_type": "execute_result"
    }
   ],
   "source": [
    "levenshtein_similarity(df=df,brand_list=brand_list, dist_thresh=0.5)"
   ]
  },
  {
   "cell_type": "markdown",
   "metadata": {},
   "source": [
    "# Jaro-Winkler Distance"
   ]
  },
  {
   "cell_type": "code",
   "execution_count": 35,
   "metadata": {},
   "outputs": [],
   "source": [
    "import pandas as pd\n",
    "import numpy as np\n",
    "from itertools import chain\n",
    "from pyjarowinkler import distance"
   ]
  },
  {
   "cell_type": "markdown",
   "metadata": {},
   "source": [
    "引数  \n",
    "df：\"id\"と\"item_title\"をもつデータフレーム  \n",
    "brand_list：抽出したい正しいブランド名をもつリスト  \n",
    "dist：距離の閾値。Jaro-Winkler Distanceの場合は**値が大きいほど類似度が高い**"
   ]
  },
  {
   "cell_type": "code",
   "execution_count": 36,
   "metadata": {},
   "outputs": [],
   "source": [
    "def jarowinkler_similarity(df, brand_list, dist_thresh = 0.75):\n",
    "    # 小文字に揃える\n",
    "    df[\"item_title\"] = df[\"item_title\"].str.lower()\n",
    "    brand_list = [c.lower() for c in brand_list]\n",
    "    \n",
    "    # 商品名を単語に分割\n",
    "    title_list = list(set(chain.from_iterable(df[\"item_title\"].str.split(\" \").tolist())))\n",
    "\n",
    "    word_miss = []\n",
    "    word_corr = []\n",
    "    word_dist = []\n",
    "\n",
    "    # 商品名の単語とブランド名の単語を総当りで距離計算\n",
    "    # 閾値を超えた単語とその距離を格納しておく\n",
    "    for word_test in title_list:\n",
    "        for word_dict in brand_list:\n",
    "                dist =  distance.get_jaro_distance(word_test, word_dict, winkler=True, scaling=0.1)\n",
    "                # 距離が閾値を超える。また、距離が1すなわちブランド名辞書と完全に合致したものは除外。\n",
    "                if dist > dist_thresh and dist != 1:\n",
    "                    word_miss.append(word_test)\n",
    "                    word_corr.append(word_dict)\n",
    "                    word_dist.append(round(dist, 3))\n",
    "\n",
    "    result = pd.DataFrame(columns={\"id\", \"item_title\"})\n",
    "\n",
    "    # ミススペルがあった単語と、その単語の正しいスペルと判定されたもの、それらの距離をもつデータフレームを作成\n",
    "    for m,c,d in zip(word_miss, word_corr, word_dist):\n",
    "            # スペルミスのあった行を抽出\n",
    "            temp = df.loc[df[\"item_title\"].str.contains(m), :].copy()\n",
    "            # 単語と距離をそれぞれのカラムに格納\n",
    "            temp.loc[temp[\"item_title\"].str.contains(m), \"miss_word\"] = m\n",
    "            temp.loc[temp[\"item_title\"].str.contains(m), \"corr_word\"] = c\n",
    "            temp.loc[temp[\"item_title\"].str.contains(m), \"distance\"] = d\n",
    "            result = result.append(temp, sort = False).sort_values(by = \"id\")\n",
    "            result = result.loc[:, [\"id\", \"item_title\", \"miss_word\", \"corr_word\", \"distance\"]]\n",
    "\n",
    "    return result"
   ]
  },
  {
   "cell_type": "markdown",
   "metadata": {},
   "source": [
    "出力結果  \n",
    "miss_word：スペルミスと判定された単語  \n",
    "corr_word：正しいスペルと判定されたブランド名  \n",
    "distance：levenshtein距離。値が**大きいほど類似している**"
   ]
  },
  {
   "cell_type": "code",
   "execution_count": 37,
   "metadata": {},
   "outputs": [
    {
     "data": {
      "text/html": [
       "<div>\n",
       "<style scoped>\n",
       "    .dataframe tbody tr th:only-of-type {\n",
       "        vertical-align: middle;\n",
       "    }\n",
       "\n",
       "    .dataframe tbody tr th {\n",
       "        vertical-align: top;\n",
       "    }\n",
       "\n",
       "    .dataframe thead th {\n",
       "        text-align: right;\n",
       "    }\n",
       "</style>\n",
       "<table border=\"1\" class=\"dataframe\">\n",
       "  <thead>\n",
       "    <tr style=\"text-align: right;\">\n",
       "      <th></th>\n",
       "      <th>id</th>\n",
       "      <th>item_title</th>\n",
       "      <th>miss_word</th>\n",
       "      <th>corr_word</th>\n",
       "      <th>distance</th>\n",
       "    </tr>\n",
       "  </thead>\n",
       "  <tbody>\n",
       "    <tr>\n",
       "      <th>1</th>\n",
       "      <td>1</td>\n",
       "      <td>pochette voyage louis vuiton</td>\n",
       "      <td>vuiton</td>\n",
       "      <td>vuitton</td>\n",
       "      <td>0.97</td>\n",
       "    </tr>\n",
       "    <tr>\n",
       "      <th>2</th>\n",
       "      <td>2</td>\n",
       "      <td>pochette voyage louis vuittonn</td>\n",
       "      <td>vuittonn</td>\n",
       "      <td>vuitton</td>\n",
       "      <td>0.98</td>\n",
       "    </tr>\n",
       "    <tr>\n",
       "      <th>4</th>\n",
       "      <td>4</td>\n",
       "      <td>genuine guchi 1980’s vintage navy blue boston bag</td>\n",
       "      <td>guchi</td>\n",
       "      <td>gucci</td>\n",
       "      <td>0.91</td>\n",
       "    </tr>\n",
       "    <tr>\n",
       "      <th>5</th>\n",
       "      <td>5</td>\n",
       "      <td>genuine gutti 1980’s vintage navy blue boston bag</td>\n",
       "      <td>gutti</td>\n",
       "      <td>gucci</td>\n",
       "      <td>0.79</td>\n",
       "    </tr>\n",
       "    <tr>\n",
       "      <th>6</th>\n",
       "      <td>6</td>\n",
       "      <td>vuittonn and gutti</td>\n",
       "      <td>vuittonn</td>\n",
       "      <td>vuitton</td>\n",
       "      <td>0.98</td>\n",
       "    </tr>\n",
       "    <tr>\n",
       "      <th>6</th>\n",
       "      <td>6</td>\n",
       "      <td>vuittonn and gutti</td>\n",
       "      <td>gutti</td>\n",
       "      <td>gucci</td>\n",
       "      <td>0.79</td>\n",
       "    </tr>\n",
       "  </tbody>\n",
       "</table>\n",
       "</div>"
      ],
      "text/plain": [
       "  id                                         item_title miss_word corr_word  \\\n",
       "1  1                       pochette voyage louis vuiton    vuiton   vuitton   \n",
       "2  2                     pochette voyage louis vuittonn  vuittonn   vuitton   \n",
       "4  4  genuine guchi 1980’s vintage navy blue boston bag     guchi     gucci   \n",
       "5  5  genuine gutti 1980’s vintage navy blue boston bag     gutti     gucci   \n",
       "6  6                                 vuittonn and gutti  vuittonn   vuitton   \n",
       "6  6                                 vuittonn and gutti     gutti     gucci   \n",
       "\n",
       "   distance  \n",
       "1      0.97  \n",
       "2      0.98  \n",
       "4      0.91  \n",
       "5      0.79  \n",
       "6      0.98  \n",
       "6      0.79  "
      ]
     },
     "execution_count": 37,
     "metadata": {},
     "output_type": "execute_result"
    }
   ],
   "source": [
    "jarowinkler_similarity(df=df, brand_list=brand_list, dist_thresh=0.75)"
   ]
  },
  {
   "cell_type": "code",
   "execution_count": null,
   "metadata": {},
   "outputs": [],
   "source": []
  }
 ],
 "metadata": {
  "kernelspec": {
   "display_name": "Python 3",
   "language": "python",
   "name": "python3"
  },
  "language_info": {
   "codemirror_mode": {
    "name": "ipython",
    "version": 3
   },
   "file_extension": ".py",
   "mimetype": "text/x-python",
   "name": "python",
   "nbconvert_exporter": "python",
   "pygments_lexer": "ipython3",
   "version": "3.7.2"
  }
 },
 "nbformat": 4,
 "nbformat_minor": 2
}
