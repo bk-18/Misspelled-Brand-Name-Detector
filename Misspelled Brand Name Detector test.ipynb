{
 "cells": [
  {
   "cell_type": "markdown",
   "metadata": {},
   "source": [
    "python-Levenshtein  \n",
    "https://rawgit.com/ztane/python-Levenshtein/master/docs/Levenshtein.html  \n",
    "  \n",
    "  \n",
    "編集距離 (Levenshtein Distance)  \n",
    "https://naoya-2.hatenadiary.org/entry/20090329/1238307757  \n",
    "  \n",
    "  \n",
    "文字列間の類似性を測るための『標準化』編集距離の計算方法について  \n",
    "https://qiita.com/Ishio/items/d52b9221c92bd4ebb344  \n",
    "  \n",
    "  \n",
    "english-words  \n",
    "https://github.com/dwyl/english-words  \n",
    "  \n",
    "  \n",
    "Pythonでリストをflattenする方法まとめ  \n",
    "http://d.hatena.ne.jp/xef/20121027/p2  \n",
    "  \n",
    "  \n",
    "文字列類似度評価 レーベンシュタイン距離 / ジャロ・ウィンクラー距離  \n",
    "http://grahamian.hatenablog.com/entry/word_similarity  \n",
    "  \n",
    "  \n",
    "２つの文字列の類似度を数値化　レーベンシュタイン距離とジャロ・ウィンクラー距離の解説  \n",
    "http://nkdkccmbr.hateblo.jp/entry/2016/08/18/102727  \n",
    "  \n",
    "\n",
    "Jaro Winkler  \n",
    "https://www.kaggle.com/alvations/jaro-winkler"
   ]
  },
  {
   "cell_type": "code",
   "execution_count": 92,
   "metadata": {},
   "outputs": [],
   "source": [
    "import pandas as pd\n",
    "import numpy as np"
   ]
  },
  {
   "cell_type": "markdown",
   "metadata": {},
   "source": [
    "# テストデータ作成"
   ]
  },
  {
   "cell_type": "markdown",
   "metadata": {},
   "source": [
    "正解ブランド名  \n",
    "小文字に統一している"
   ]
  },
  {
   "cell_type": "code",
   "execution_count": 93,
   "metadata": {},
   "outputs": [
    {
     "data": {
      "text/plain": [
       "['vuitton', 'gucci']"
      ]
     },
     "execution_count": 93,
     "metadata": {},
     "output_type": "execute_result"
    }
   ],
   "source": [
    "brand_list = [c.lower() for c in [\"Vuitton\", \"Gucci\"]]\n",
    "\n",
    "brand_list"
   ]
  },
  {
   "cell_type": "markdown",
   "metadata": {},
   "source": [
    "テストタイトル  \n",
    "\"Vuitton\"と\"Gucci\"の表記ミスを追加している"
   ]
  },
  {
   "cell_type": "code",
   "execution_count": 94,
   "metadata": {},
   "outputs": [],
   "source": [
    "item_title = [\"Pochette voyage Louis Vuitton\",\n",
    "\"Pochette voyage Louis Vuiton\",\n",
    "\"Pochette voyage Louis Vuittonn\",\n",
    "\"Genuine Gucci 1980’s Vintage Navy Blue Boston Bag\",\n",
    "\"Genuine Guchi 1980’s Vintage Navy Blue Boston Bag\",\n",
    "\"Genuine Gutti 1980’s Vintage Navy Blue Boston Bag\",\n",
    "\"Vuittonn and Gutti\"\n",
    "             ]"
   ]
  },
  {
   "cell_type": "code",
   "execution_count": 95,
   "metadata": {},
   "outputs": [
    {
     "data": {
      "text/html": [
       "<div>\n",
       "<style scoped>\n",
       "    .dataframe tbody tr th:only-of-type {\n",
       "        vertical-align: middle;\n",
       "    }\n",
       "\n",
       "    .dataframe tbody tr th {\n",
       "        vertical-align: top;\n",
       "    }\n",
       "\n",
       "    .dataframe thead th {\n",
       "        text-align: right;\n",
       "    }\n",
       "</style>\n",
       "<table border=\"1\" class=\"dataframe\">\n",
       "  <thead>\n",
       "    <tr style=\"text-align: right;\">\n",
       "      <th></th>\n",
       "      <th>id</th>\n",
       "      <th>item_title</th>\n",
       "    </tr>\n",
       "  </thead>\n",
       "  <tbody>\n",
       "    <tr>\n",
       "      <th>0</th>\n",
       "      <td>0</td>\n",
       "      <td>Pochette voyage Louis Vuitton</td>\n",
       "    </tr>\n",
       "    <tr>\n",
       "      <th>1</th>\n",
       "      <td>1</td>\n",
       "      <td>Pochette voyage Louis Vuiton</td>\n",
       "    </tr>\n",
       "    <tr>\n",
       "      <th>2</th>\n",
       "      <td>2</td>\n",
       "      <td>Pochette voyage Louis Vuittonn</td>\n",
       "    </tr>\n",
       "    <tr>\n",
       "      <th>3</th>\n",
       "      <td>3</td>\n",
       "      <td>Genuine Gucci 1980’s Vintage Navy Blue Boston Bag</td>\n",
       "    </tr>\n",
       "    <tr>\n",
       "      <th>4</th>\n",
       "      <td>4</td>\n",
       "      <td>Genuine Guchi 1980’s Vintage Navy Blue Boston Bag</td>\n",
       "    </tr>\n",
       "    <tr>\n",
       "      <th>5</th>\n",
       "      <td>5</td>\n",
       "      <td>Genuine Gutti 1980’s Vintage Navy Blue Boston Bag</td>\n",
       "    </tr>\n",
       "    <tr>\n",
       "      <th>6</th>\n",
       "      <td>6</td>\n",
       "      <td>Vuittonn and Gutti</td>\n",
       "    </tr>\n",
       "  </tbody>\n",
       "</table>\n",
       "</div>"
      ],
      "text/plain": [
       "   id                                         item_title\n",
       "0   0                      Pochette voyage Louis Vuitton\n",
       "1   1                       Pochette voyage Louis Vuiton\n",
       "2   2                     Pochette voyage Louis Vuittonn\n",
       "3   3  Genuine Gucci 1980’s Vintage Navy Blue Boston Bag\n",
       "4   4  Genuine Guchi 1980’s Vintage Navy Blue Boston Bag\n",
       "5   5  Genuine Gutti 1980’s Vintage Navy Blue Boston Bag\n",
       "6   6                                 Vuittonn and Gutti"
      ]
     },
     "execution_count": 95,
     "metadata": {},
     "output_type": "execute_result"
    }
   ],
   "source": [
    "df = pd.DataFrame({\n",
    "    \"id\":pd.Series(range(0,len(item_title))),\n",
    "    \"item_title\":item_title\n",
    "})\n",
    "\n",
    "df"
   ]
  },
  {
   "cell_type": "markdown",
   "metadata": {},
   "source": [
    "小文字に統一する"
   ]
  },
  {
   "cell_type": "code",
   "execution_count": 96,
   "metadata": {},
   "outputs": [
    {
     "data": {
      "text/html": [
       "<div>\n",
       "<style scoped>\n",
       "    .dataframe tbody tr th:only-of-type {\n",
       "        vertical-align: middle;\n",
       "    }\n",
       "\n",
       "    .dataframe tbody tr th {\n",
       "        vertical-align: top;\n",
       "    }\n",
       "\n",
       "    .dataframe thead th {\n",
       "        text-align: right;\n",
       "    }\n",
       "</style>\n",
       "<table border=\"1\" class=\"dataframe\">\n",
       "  <thead>\n",
       "    <tr style=\"text-align: right;\">\n",
       "      <th></th>\n",
       "      <th>id</th>\n",
       "      <th>item_title</th>\n",
       "    </tr>\n",
       "  </thead>\n",
       "  <tbody>\n",
       "    <tr>\n",
       "      <th>0</th>\n",
       "      <td>0</td>\n",
       "      <td>pochette voyage louis vuitton</td>\n",
       "    </tr>\n",
       "    <tr>\n",
       "      <th>1</th>\n",
       "      <td>1</td>\n",
       "      <td>pochette voyage louis vuiton</td>\n",
       "    </tr>\n",
       "    <tr>\n",
       "      <th>2</th>\n",
       "      <td>2</td>\n",
       "      <td>pochette voyage louis vuittonn</td>\n",
       "    </tr>\n",
       "    <tr>\n",
       "      <th>3</th>\n",
       "      <td>3</td>\n",
       "      <td>genuine gucci 1980’s vintage navy blue boston bag</td>\n",
       "    </tr>\n",
       "    <tr>\n",
       "      <th>4</th>\n",
       "      <td>4</td>\n",
       "      <td>genuine guchi 1980’s vintage navy blue boston bag</td>\n",
       "    </tr>\n",
       "    <tr>\n",
       "      <th>5</th>\n",
       "      <td>5</td>\n",
       "      <td>genuine gutti 1980’s vintage navy blue boston bag</td>\n",
       "    </tr>\n",
       "    <tr>\n",
       "      <th>6</th>\n",
       "      <td>6</td>\n",
       "      <td>vuittonn and gutti</td>\n",
       "    </tr>\n",
       "  </tbody>\n",
       "</table>\n",
       "</div>"
      ],
      "text/plain": [
       "   id                                         item_title\n",
       "0   0                      pochette voyage louis vuitton\n",
       "1   1                       pochette voyage louis vuiton\n",
       "2   2                     pochette voyage louis vuittonn\n",
       "3   3  genuine gucci 1980’s vintage navy blue boston bag\n",
       "4   4  genuine guchi 1980’s vintage navy blue boston bag\n",
       "5   5  genuine gutti 1980’s vintage navy blue boston bag\n",
       "6   6                                 vuittonn and gutti"
      ]
     },
     "execution_count": 96,
     "metadata": {},
     "output_type": "execute_result"
    }
   ],
   "source": [
    "df[\"item_title\"] = df[\"item_title\"].str.lower()\n",
    "\n",
    "df"
   ]
  },
  {
   "cell_type": "markdown",
   "metadata": {},
   "source": [
    "# テストデータの単語リスト作成"
   ]
  },
  {
   "cell_type": "code",
   "execution_count": 97,
   "metadata": {},
   "outputs": [
    {
     "data": {
      "text/plain": [
       "[['pochette', 'voyage', 'louis', 'vuitton'],\n",
       " ['pochette', 'voyage', 'louis', 'vuiton'],\n",
       " ['pochette', 'voyage', 'louis', 'vuittonn'],\n",
       " ['genuine', 'gucci', '1980’s', 'vintage', 'navy', 'blue', 'boston', 'bag'],\n",
       " ['genuine', 'guchi', '1980’s', 'vintage', 'navy', 'blue', 'boston', 'bag'],\n",
       " ['genuine', 'gutti', '1980’s', 'vintage', 'navy', 'blue', 'boston', 'bag'],\n",
       " ['vuittonn', 'and', 'gutti']]"
      ]
     },
     "execution_count": 97,
     "metadata": {},
     "output_type": "execute_result"
    }
   ],
   "source": [
    "df[\"item_title\"].str.split(\" \").tolist()"
   ]
  },
  {
   "cell_type": "markdown",
   "metadata": {},
   "source": [
    "重複を除外する"
   ]
  },
  {
   "cell_type": "code",
   "execution_count": 98,
   "metadata": {},
   "outputs": [
    {
     "data": {
      "text/plain": [
       "['voyage',\n",
       " 'gutti',\n",
       " 'vuitton',\n",
       " 'guchi',\n",
       " 'bag',\n",
       " 'navy',\n",
       " 'vuittonn',\n",
       " 'and',\n",
       " 'vintage',\n",
       " 'blue',\n",
       " 'vuiton',\n",
       " '1980’s',\n",
       " 'boston',\n",
       " 'genuine',\n",
       " 'gucci',\n",
       " 'louis',\n",
       " 'pochette']"
      ]
     },
     "execution_count": 98,
     "metadata": {},
     "output_type": "execute_result"
    }
   ],
   "source": [
    "from itertools import chain\n",
    "title_list = list(set(chain.from_iterable(df[\"item_title\"].str.split(\" \").tolist())))\n",
    "\n",
    "title_list"
   ]
  },
  {
   "cell_type": "markdown",
   "metadata": {},
   "source": [
    "# 編集距離の計算（Levenshtein Distance）"
   ]
  },
  {
   "cell_type": "code",
   "execution_count": 99,
   "metadata": {},
   "outputs": [
    {
     "name": "stdout",
     "output_type": "stream",
     "text": [
      "['gutti', 'guchi', 'vuittonn', 'vuiton'] ['gucci', 'gucci', 'vuitton', 'vuitton'] [0.4, 0.2, 0.125, 0.143]\n"
     ]
    }
   ],
   "source": [
    "import Levenshtein\n",
    "\n",
    "word_miss = []\n",
    "word_corr = []\n",
    "word_dist = []\n",
    "\n",
    "for word_test in title_list:\n",
    "    for word_dict in brand_list:\n",
    "            dist = Levenshtein.distance(word_test, word_dict)/(max(len(word_test), len(word_dict)))\n",
    "            if dist < 0.5 and dist != 0:\n",
    "                word_miss.append(word_test)\n",
    "                word_corr.append(word_dict)\n",
    "                word_dist.append(round(dist, 3))\n",
    "\n",
    "print(word_miss, word_corr,word_dist)"
   ]
  },
  {
   "cell_type": "markdown",
   "metadata": {},
   "source": [
    "# 元のデータフレームから対象レコードを抽出"
   ]
  },
  {
   "cell_type": "code",
   "execution_count": 100,
   "metadata": {},
   "outputs": [
    {
     "data": {
      "text/html": [
       "<div>\n",
       "<style scoped>\n",
       "    .dataframe tbody tr th:only-of-type {\n",
       "        vertical-align: middle;\n",
       "    }\n",
       "\n",
       "    .dataframe tbody tr th {\n",
       "        vertical-align: top;\n",
       "    }\n",
       "\n",
       "    .dataframe thead th {\n",
       "        text-align: right;\n",
       "    }\n",
       "</style>\n",
       "<table border=\"1\" class=\"dataframe\">\n",
       "  <thead>\n",
       "    <tr style=\"text-align: right;\">\n",
       "      <th></th>\n",
       "      <th>item_title</th>\n",
       "      <th>id</th>\n",
       "      <th>miss_word</th>\n",
       "      <th>corr_word</th>\n",
       "      <th>distance</th>\n",
       "    </tr>\n",
       "  </thead>\n",
       "  <tbody>\n",
       "    <tr>\n",
       "      <th>1</th>\n",
       "      <td>pochette voyage louis vuiton</td>\n",
       "      <td>1</td>\n",
       "      <td>vuiton</td>\n",
       "      <td>vuitton</td>\n",
       "      <td>0.143</td>\n",
       "    </tr>\n",
       "    <tr>\n",
       "      <th>2</th>\n",
       "      <td>pochette voyage louis vuittonn</td>\n",
       "      <td>2</td>\n",
       "      <td>vuittonn</td>\n",
       "      <td>vuitton</td>\n",
       "      <td>0.125</td>\n",
       "    </tr>\n",
       "    <tr>\n",
       "      <th>4</th>\n",
       "      <td>genuine guchi 1980’s vintage navy blue boston bag</td>\n",
       "      <td>4</td>\n",
       "      <td>guchi</td>\n",
       "      <td>gucci</td>\n",
       "      <td>0.200</td>\n",
       "    </tr>\n",
       "    <tr>\n",
       "      <th>5</th>\n",
       "      <td>genuine gutti 1980’s vintage navy blue boston bag</td>\n",
       "      <td>5</td>\n",
       "      <td>gutti</td>\n",
       "      <td>gucci</td>\n",
       "      <td>0.400</td>\n",
       "    </tr>\n",
       "    <tr>\n",
       "      <th>6</th>\n",
       "      <td>vuittonn and gutti</td>\n",
       "      <td>6</td>\n",
       "      <td>gutti</td>\n",
       "      <td>gucci</td>\n",
       "      <td>0.400</td>\n",
       "    </tr>\n",
       "    <tr>\n",
       "      <th>6</th>\n",
       "      <td>vuittonn and gutti</td>\n",
       "      <td>6</td>\n",
       "      <td>vuittonn</td>\n",
       "      <td>vuitton</td>\n",
       "      <td>0.125</td>\n",
       "    </tr>\n",
       "  </tbody>\n",
       "</table>\n",
       "</div>"
      ],
      "text/plain": [
       "                                          item_title id miss_word corr_word  \\\n",
       "1                       pochette voyage louis vuiton  1    vuiton   vuitton   \n",
       "2                     pochette voyage louis vuittonn  2  vuittonn   vuitton   \n",
       "4  genuine guchi 1980’s vintage navy blue boston bag  4     guchi     gucci   \n",
       "5  genuine gutti 1980’s vintage navy blue boston bag  5     gutti     gucci   \n",
       "6                                 vuittonn and gutti  6     gutti     gucci   \n",
       "6                                 vuittonn and gutti  6  vuittonn   vuitton   \n",
       "\n",
       "   distance  \n",
       "1     0.143  \n",
       "2     0.125  \n",
       "4     0.200  \n",
       "5     0.400  \n",
       "6     0.400  \n",
       "6     0.125  "
      ]
     },
     "execution_count": 100,
     "metadata": {},
     "output_type": "execute_result"
    }
   ],
   "source": [
    "result = pd.DataFrame(columns={\"id\", \"item_title\"})\n",
    "\n",
    "for m,c,d in zip(word_miss, word_corr, word_dist):\n",
    "        temp = df.loc[df[\"item_title\"].str.contains(m), :]\n",
    "        temp.loc[temp[\"item_title\"].str.contains(m), \"miss_word\"] = m\n",
    "        temp.loc[temp[\"item_title\"].str.contains(m), \"corr_word\"] = c\n",
    "        temp.loc[temp[\"item_title\"].str.contains(m), \"distance\"] = d\n",
    "        result = result.append(temp, sort = False).sort_values(by = \"id\")\n",
    "\n",
    "result"
   ]
  },
  {
   "cell_type": "markdown",
   "metadata": {},
   "source": [
    "# 編集距離の計算（Jaro-Winkler Distance）"
   ]
  },
  {
   "cell_type": "code",
   "execution_count": 101,
   "metadata": {},
   "outputs": [
    {
     "name": "stdout",
     "output_type": "stream",
     "text": [
      "['gutti', 'guchi', 'vuittonn', 'vuiton'] ['gucci', 'gucci', 'vuitton', 'vuitton'] [0.79, 0.91, 0.98, 0.97]\n"
     ]
    }
   ],
   "source": [
    "from pyjarowinkler import distance\n",
    "\n",
    "word_miss = []\n",
    "word_corr = []\n",
    "word_dist = []\n",
    "\n",
    "for word_test in title_list:\n",
    "    for word_dict in brand_list:\n",
    "            dist =  distance.get_jaro_distance(word_test, word_dict, winkler=True, scaling=0.1)\n",
    "            if dist > 0.75 and dist != 1:\n",
    "                word_miss.append(word_test)\n",
    "                word_corr.append(word_dict)\n",
    "                word_dist.append(round(dist, 3))\n",
    "\n",
    "print(word_miss, word_corr, word_dist)"
   ]
  },
  {
   "cell_type": "code",
   "execution_count": 102,
   "metadata": {},
   "outputs": [
    {
     "data": {
      "text/html": [
       "<div>\n",
       "<style scoped>\n",
       "    .dataframe tbody tr th:only-of-type {\n",
       "        vertical-align: middle;\n",
       "    }\n",
       "\n",
       "    .dataframe tbody tr th {\n",
       "        vertical-align: top;\n",
       "    }\n",
       "\n",
       "    .dataframe thead th {\n",
       "        text-align: right;\n",
       "    }\n",
       "</style>\n",
       "<table border=\"1\" class=\"dataframe\">\n",
       "  <thead>\n",
       "    <tr style=\"text-align: right;\">\n",
       "      <th></th>\n",
       "      <th>item_title</th>\n",
       "      <th>id</th>\n",
       "      <th>miss_word</th>\n",
       "      <th>corr_word</th>\n",
       "      <th>distance</th>\n",
       "    </tr>\n",
       "  </thead>\n",
       "  <tbody>\n",
       "    <tr>\n",
       "      <th>1</th>\n",
       "      <td>pochette voyage louis vuiton</td>\n",
       "      <td>1</td>\n",
       "      <td>vuiton</td>\n",
       "      <td>vuitton</td>\n",
       "      <td>0.97</td>\n",
       "    </tr>\n",
       "    <tr>\n",
       "      <th>2</th>\n",
       "      <td>pochette voyage louis vuittonn</td>\n",
       "      <td>2</td>\n",
       "      <td>vuittonn</td>\n",
       "      <td>vuitton</td>\n",
       "      <td>0.98</td>\n",
       "    </tr>\n",
       "    <tr>\n",
       "      <th>4</th>\n",
       "      <td>genuine guchi 1980’s vintage navy blue boston bag</td>\n",
       "      <td>4</td>\n",
       "      <td>guchi</td>\n",
       "      <td>gucci</td>\n",
       "      <td>0.91</td>\n",
       "    </tr>\n",
       "    <tr>\n",
       "      <th>5</th>\n",
       "      <td>genuine gutti 1980’s vintage navy blue boston bag</td>\n",
       "      <td>5</td>\n",
       "      <td>gutti</td>\n",
       "      <td>gucci</td>\n",
       "      <td>0.79</td>\n",
       "    </tr>\n",
       "    <tr>\n",
       "      <th>6</th>\n",
       "      <td>vuittonn and gutti</td>\n",
       "      <td>6</td>\n",
       "      <td>gutti</td>\n",
       "      <td>gucci</td>\n",
       "      <td>0.79</td>\n",
       "    </tr>\n",
       "    <tr>\n",
       "      <th>6</th>\n",
       "      <td>vuittonn and gutti</td>\n",
       "      <td>6</td>\n",
       "      <td>vuittonn</td>\n",
       "      <td>vuitton</td>\n",
       "      <td>0.98</td>\n",
       "    </tr>\n",
       "  </tbody>\n",
       "</table>\n",
       "</div>"
      ],
      "text/plain": [
       "                                          item_title id miss_word corr_word  \\\n",
       "1                       pochette voyage louis vuiton  1    vuiton   vuitton   \n",
       "2                     pochette voyage louis vuittonn  2  vuittonn   vuitton   \n",
       "4  genuine guchi 1980’s vintage navy blue boston bag  4     guchi     gucci   \n",
       "5  genuine gutti 1980’s vintage navy blue boston bag  5     gutti     gucci   \n",
       "6                                 vuittonn and gutti  6     gutti     gucci   \n",
       "6                                 vuittonn and gutti  6  vuittonn   vuitton   \n",
       "\n",
       "   distance  \n",
       "1      0.97  \n",
       "2      0.98  \n",
       "4      0.91  \n",
       "5      0.79  \n",
       "6      0.79  \n",
       "6      0.98  "
      ]
     },
     "execution_count": 102,
     "metadata": {},
     "output_type": "execute_result"
    }
   ],
   "source": [
    "result = pd.DataFrame(columns={\"id\", \"item_title\"})\n",
    "\n",
    "for m,c,d in zip(word_miss, word_corr,word_dist):\n",
    "        temp = df.loc[df[\"item_title\"].str.contains(m), :]\n",
    "        temp.loc[temp[\"item_title\"].str.contains(m), \"miss_word\"] = m\n",
    "        temp.loc[temp[\"item_title\"].str.contains(m), \"corr_word\"] = c\n",
    "        temp.loc[temp[\"item_title\"].str.contains(m), \"distance\"] = d\n",
    "        result = result.append(temp, sort = False).sort_values(by = \"id\")\n",
    "\n",
    "result"
   ]
  },
  {
   "cell_type": "markdown",
   "metadata": {},
   "source": [
    "# Levenshtein Distance 関数化"
   ]
  },
  {
   "cell_type": "code",
   "execution_count": 103,
   "metadata": {},
   "outputs": [
    {
     "data": {
      "text/plain": [
       "['Vuitton', 'Gucci']"
      ]
     },
     "execution_count": 103,
     "metadata": {},
     "output_type": "execute_result"
    }
   ],
   "source": [
    "brand_list = [\"Vuitton\", \"Gucci\"]\n",
    "\n",
    "brand_list"
   ]
  },
  {
   "cell_type": "code",
   "execution_count": 104,
   "metadata": {},
   "outputs": [],
   "source": [
    "item_title = [\"Pochette voyage Louis Vuitton\",\n",
    "\"Pochette voyage Louis Vuiton\",\n",
    "\"Pochette voyage Louis Vuittonn\",\n",
    "\"Genuine Gucci 1980’s Vintage Navy Blue Boston Bag\",\n",
    "\"Genuine Guchi 1980’s Vintage Navy Blue Boston Bag\",\n",
    "\"Genuine Gutti 1980’s Vintage Navy Blue Boston Bag\",\n",
    "\"Vuittonn and Gutti\"\n",
    "             ]"
   ]
  },
  {
   "cell_type": "code",
   "execution_count": 105,
   "metadata": {},
   "outputs": [
    {
     "data": {
      "text/html": [
       "<div>\n",
       "<style scoped>\n",
       "    .dataframe tbody tr th:only-of-type {\n",
       "        vertical-align: middle;\n",
       "    }\n",
       "\n",
       "    .dataframe tbody tr th {\n",
       "        vertical-align: top;\n",
       "    }\n",
       "\n",
       "    .dataframe thead th {\n",
       "        text-align: right;\n",
       "    }\n",
       "</style>\n",
       "<table border=\"1\" class=\"dataframe\">\n",
       "  <thead>\n",
       "    <tr style=\"text-align: right;\">\n",
       "      <th></th>\n",
       "      <th>id</th>\n",
       "      <th>item_title</th>\n",
       "    </tr>\n",
       "  </thead>\n",
       "  <tbody>\n",
       "    <tr>\n",
       "      <th>0</th>\n",
       "      <td>0</td>\n",
       "      <td>Pochette voyage Louis Vuitton</td>\n",
       "    </tr>\n",
       "    <tr>\n",
       "      <th>1</th>\n",
       "      <td>1</td>\n",
       "      <td>Pochette voyage Louis Vuiton</td>\n",
       "    </tr>\n",
       "    <tr>\n",
       "      <th>2</th>\n",
       "      <td>2</td>\n",
       "      <td>Pochette voyage Louis Vuittonn</td>\n",
       "    </tr>\n",
       "    <tr>\n",
       "      <th>3</th>\n",
       "      <td>3</td>\n",
       "      <td>Genuine Gucci 1980’s Vintage Navy Blue Boston Bag</td>\n",
       "    </tr>\n",
       "    <tr>\n",
       "      <th>4</th>\n",
       "      <td>4</td>\n",
       "      <td>Genuine Guchi 1980’s Vintage Navy Blue Boston Bag</td>\n",
       "    </tr>\n",
       "    <tr>\n",
       "      <th>5</th>\n",
       "      <td>5</td>\n",
       "      <td>Genuine Gutti 1980’s Vintage Navy Blue Boston Bag</td>\n",
       "    </tr>\n",
       "    <tr>\n",
       "      <th>6</th>\n",
       "      <td>6</td>\n",
       "      <td>Vuittonn and Gutti</td>\n",
       "    </tr>\n",
       "  </tbody>\n",
       "</table>\n",
       "</div>"
      ],
      "text/plain": [
       "   id                                         item_title\n",
       "0   0                      Pochette voyage Louis Vuitton\n",
       "1   1                       Pochette voyage Louis Vuiton\n",
       "2   2                     Pochette voyage Louis Vuittonn\n",
       "3   3  Genuine Gucci 1980’s Vintage Navy Blue Boston Bag\n",
       "4   4  Genuine Guchi 1980’s Vintage Navy Blue Boston Bag\n",
       "5   5  Genuine Gutti 1980’s Vintage Navy Blue Boston Bag\n",
       "6   6                                 Vuittonn and Gutti"
      ]
     },
     "execution_count": 105,
     "metadata": {},
     "output_type": "execute_result"
    }
   ],
   "source": [
    "df = pd.DataFrame({\n",
    "    \"id\":pd.Series(range(0,len(item_title))),\n",
    "    \"item_title\":item_title\n",
    "})\n",
    "\n",
    "df"
   ]
  },
  {
   "cell_type": "code",
   "execution_count": 106,
   "metadata": {},
   "outputs": [],
   "source": [
    "import pandas as pd\n",
    "import numpy as np\n",
    "from itertools import chain\n",
    "import Levenshtein"
   ]
  },
  {
   "cell_type": "code",
   "execution_count": 107,
   "metadata": {},
   "outputs": [],
   "source": [
    "def levenshtein_similarity(df, brand_list, dist = 0.5):\n",
    "    df[\"item_title\"] = df[\"item_title\"].str.lower()\n",
    "    brand_list = [c.lower() for c in brand_list]\n",
    "\n",
    "    title_list = list(set(chain.from_iterable(df[\"item_title\"].str.split(\" \").tolist())))\n",
    "\n",
    "    word_miss = []\n",
    "    word_corr = []\n",
    "    word_dist = []\n",
    "\n",
    "    for word_test in title_list:\n",
    "        for word_dict in brand_list:\n",
    "                dist = Levenshtein.distance(word_test, word_dict)/(max(len(word_test), len(word_dict)))\n",
    "                if dist < 0.5 and dist != 0:\n",
    "                    word_miss.append(word_test)\n",
    "                    word_corr.append(word_dict)\n",
    "                    word_dist.append(round(dist, 3))\n",
    "\n",
    "    result = pd.DataFrame(columns={\"id\", \"item_title\"})\n",
    "\n",
    "    for m,c,d in zip(word_miss, word_corr, word_dist):\n",
    "            temp = df.loc[df[\"item_title\"].str.contains(m), :].copy()\n",
    "            temp.loc[temp[\"item_title\"].str.contains(m), \"miss_word\"] = m\n",
    "            temp.loc[temp[\"item_title\"].str.contains(m), \"corr_word\"] = c\n",
    "            temp.loc[temp[\"item_title\"].str.contains(m), \"distance\"] = d\n",
    "            result = result.append(temp, sort = False).sort_values(by = \"id\")\n",
    "\n",
    "    return result"
   ]
  },
  {
   "cell_type": "code",
   "execution_count": 108,
   "metadata": {},
   "outputs": [
    {
     "data": {
      "text/html": [
       "<div>\n",
       "<style scoped>\n",
       "    .dataframe tbody tr th:only-of-type {\n",
       "        vertical-align: middle;\n",
       "    }\n",
       "\n",
       "    .dataframe tbody tr th {\n",
       "        vertical-align: top;\n",
       "    }\n",
       "\n",
       "    .dataframe thead th {\n",
       "        text-align: right;\n",
       "    }\n",
       "</style>\n",
       "<table border=\"1\" class=\"dataframe\">\n",
       "  <thead>\n",
       "    <tr style=\"text-align: right;\">\n",
       "      <th></th>\n",
       "      <th>item_title</th>\n",
       "      <th>id</th>\n",
       "      <th>miss_word</th>\n",
       "      <th>corr_word</th>\n",
       "      <th>distance</th>\n",
       "    </tr>\n",
       "  </thead>\n",
       "  <tbody>\n",
       "    <tr>\n",
       "      <th>1</th>\n",
       "      <td>pochette voyage louis vuiton</td>\n",
       "      <td>1</td>\n",
       "      <td>vuiton</td>\n",
       "      <td>vuitton</td>\n",
       "      <td>0.143</td>\n",
       "    </tr>\n",
       "    <tr>\n",
       "      <th>2</th>\n",
       "      <td>pochette voyage louis vuittonn</td>\n",
       "      <td>2</td>\n",
       "      <td>vuittonn</td>\n",
       "      <td>vuitton</td>\n",
       "      <td>0.125</td>\n",
       "    </tr>\n",
       "    <tr>\n",
       "      <th>4</th>\n",
       "      <td>genuine guchi 1980’s vintage navy blue boston bag</td>\n",
       "      <td>4</td>\n",
       "      <td>guchi</td>\n",
       "      <td>gucci</td>\n",
       "      <td>0.200</td>\n",
       "    </tr>\n",
       "    <tr>\n",
       "      <th>5</th>\n",
       "      <td>genuine gutti 1980’s vintage navy blue boston bag</td>\n",
       "      <td>5</td>\n",
       "      <td>gutti</td>\n",
       "      <td>gucci</td>\n",
       "      <td>0.400</td>\n",
       "    </tr>\n",
       "    <tr>\n",
       "      <th>6</th>\n",
       "      <td>vuittonn and gutti</td>\n",
       "      <td>6</td>\n",
       "      <td>gutti</td>\n",
       "      <td>gucci</td>\n",
       "      <td>0.400</td>\n",
       "    </tr>\n",
       "    <tr>\n",
       "      <th>6</th>\n",
       "      <td>vuittonn and gutti</td>\n",
       "      <td>6</td>\n",
       "      <td>vuittonn</td>\n",
       "      <td>vuitton</td>\n",
       "      <td>0.125</td>\n",
       "    </tr>\n",
       "  </tbody>\n",
       "</table>\n",
       "</div>"
      ],
      "text/plain": [
       "                                          item_title id miss_word corr_word  \\\n",
       "1                       pochette voyage louis vuiton  1    vuiton   vuitton   \n",
       "2                     pochette voyage louis vuittonn  2  vuittonn   vuitton   \n",
       "4  genuine guchi 1980’s vintage navy blue boston bag  4     guchi     gucci   \n",
       "5  genuine gutti 1980’s vintage navy blue boston bag  5     gutti     gucci   \n",
       "6                                 vuittonn and gutti  6     gutti     gucci   \n",
       "6                                 vuittonn and gutti  6  vuittonn   vuitton   \n",
       "\n",
       "   distance  \n",
       "1     0.143  \n",
       "2     0.125  \n",
       "4     0.200  \n",
       "5     0.400  \n",
       "6     0.400  \n",
       "6     0.125  "
      ]
     },
     "execution_count": 108,
     "metadata": {},
     "output_type": "execute_result"
    }
   ],
   "source": [
    "levenshtein_similarity(df, brand_dict, 0.5)"
   ]
  },
  {
   "cell_type": "markdown",
   "metadata": {},
   "source": [
    "# Jaro-Winkler Distance 関数化"
   ]
  },
  {
   "cell_type": "code",
   "execution_count": 109,
   "metadata": {},
   "outputs": [
    {
     "data": {
      "text/plain": [
       "['Vuitton', 'Gucci']"
      ]
     },
     "execution_count": 109,
     "metadata": {},
     "output_type": "execute_result"
    }
   ],
   "source": [
    "brand_list = [\"Vuitton\", \"Gucci\"]\n",
    "\n",
    "brand_list"
   ]
  },
  {
   "cell_type": "code",
   "execution_count": 110,
   "metadata": {},
   "outputs": [],
   "source": [
    "item_title = [\"Pochette voyage Louis Vuitton\",\n",
    "\"Pochette voyage Louis Vuiton\",\n",
    "\"Pochette voyage Louis Vuittonn\",\n",
    "\"Genuine Gucci 1980’s Vintage Navy Blue Boston Bag\",\n",
    "\"Genuine Guchi 1980’s Vintage Navy Blue Boston Bag\",\n",
    "\"Genuine Gutti 1980’s Vintage Navy Blue Boston Bag\",\n",
    "\"Vuittonn and Gutti\"\n",
    "             ]"
   ]
  },
  {
   "cell_type": "code",
   "execution_count": 111,
   "metadata": {},
   "outputs": [
    {
     "data": {
      "text/html": [
       "<div>\n",
       "<style scoped>\n",
       "    .dataframe tbody tr th:only-of-type {\n",
       "        vertical-align: middle;\n",
       "    }\n",
       "\n",
       "    .dataframe tbody tr th {\n",
       "        vertical-align: top;\n",
       "    }\n",
       "\n",
       "    .dataframe thead th {\n",
       "        text-align: right;\n",
       "    }\n",
       "</style>\n",
       "<table border=\"1\" class=\"dataframe\">\n",
       "  <thead>\n",
       "    <tr style=\"text-align: right;\">\n",
       "      <th></th>\n",
       "      <th>id</th>\n",
       "      <th>item_title</th>\n",
       "    </tr>\n",
       "  </thead>\n",
       "  <tbody>\n",
       "    <tr>\n",
       "      <th>0</th>\n",
       "      <td>0</td>\n",
       "      <td>Pochette voyage Louis Vuitton</td>\n",
       "    </tr>\n",
       "    <tr>\n",
       "      <th>1</th>\n",
       "      <td>1</td>\n",
       "      <td>Pochette voyage Louis Vuiton</td>\n",
       "    </tr>\n",
       "    <tr>\n",
       "      <th>2</th>\n",
       "      <td>2</td>\n",
       "      <td>Pochette voyage Louis Vuittonn</td>\n",
       "    </tr>\n",
       "    <tr>\n",
       "      <th>3</th>\n",
       "      <td>3</td>\n",
       "      <td>Genuine Gucci 1980’s Vintage Navy Blue Boston Bag</td>\n",
       "    </tr>\n",
       "    <tr>\n",
       "      <th>4</th>\n",
       "      <td>4</td>\n",
       "      <td>Genuine Guchi 1980’s Vintage Navy Blue Boston Bag</td>\n",
       "    </tr>\n",
       "    <tr>\n",
       "      <th>5</th>\n",
       "      <td>5</td>\n",
       "      <td>Genuine Gutti 1980’s Vintage Navy Blue Boston Bag</td>\n",
       "    </tr>\n",
       "    <tr>\n",
       "      <th>6</th>\n",
       "      <td>6</td>\n",
       "      <td>Vuittonn and Gutti</td>\n",
       "    </tr>\n",
       "  </tbody>\n",
       "</table>\n",
       "</div>"
      ],
      "text/plain": [
       "   id                                         item_title\n",
       "0   0                      Pochette voyage Louis Vuitton\n",
       "1   1                       Pochette voyage Louis Vuiton\n",
       "2   2                     Pochette voyage Louis Vuittonn\n",
       "3   3  Genuine Gucci 1980’s Vintage Navy Blue Boston Bag\n",
       "4   4  Genuine Guchi 1980’s Vintage Navy Blue Boston Bag\n",
       "5   5  Genuine Gutti 1980’s Vintage Navy Blue Boston Bag\n",
       "6   6                                 Vuittonn and Gutti"
      ]
     },
     "execution_count": 111,
     "metadata": {},
     "output_type": "execute_result"
    }
   ],
   "source": [
    "df = pd.DataFrame({\n",
    "    \"id\":pd.Series(range(0,len(item_title))),\n",
    "    \"item_title\":item_title\n",
    "})\n",
    "\n",
    "df"
   ]
  },
  {
   "cell_type": "code",
   "execution_count": 112,
   "metadata": {},
   "outputs": [],
   "source": [
    "import pandas as pd\n",
    "import numpy as np\n",
    "from itertools import chain\n",
    "from pyjarowinkler import distance"
   ]
  },
  {
   "cell_type": "code",
   "execution_count": 113,
   "metadata": {},
   "outputs": [],
   "source": [
    "def jarowinkler_similarity(df, brand_list, dist = 0.75):\n",
    "    df[\"item_title\"] = df[\"item_title\"].str.lower()\n",
    "    brand_list = [c.lower() for c in brand_list]\n",
    "\n",
    "    title_list = list(set(chain.from_iterable(df[\"item_title\"].str.split(\" \").tolist())))\n",
    "\n",
    "    word_miss = []\n",
    "    word_corr = []\n",
    "    word_dist = []\n",
    "\n",
    "    for word_test in title_list:\n",
    "        for word_dict in brand_list:\n",
    "                dist =  distance.get_jaro_distance(word_test, word_dict, winkler=True, scaling=0.1)\n",
    "                if dist > 0.75 and dist != 1:\n",
    "                    word_miss.append(word_test)\n",
    "                    word_corr.append(word_dict)\n",
    "                    word_dist.append(round(dist, 3))\n",
    "\n",
    "\n",
    "    result = pd.DataFrame(columns={\"id\", \"item_title\"})\n",
    "\n",
    "    for m,c,d in zip(word_miss, word_corr, word_dist):\n",
    "            temp = df.loc[df[\"item_title\"].str.contains(m), :].copy()\n",
    "            temp.loc[temp[\"item_title\"].str.contains(m), \"miss_word\"] = m\n",
    "            temp.loc[temp[\"item_title\"].str.contains(m), \"corr_word\"] = c\n",
    "            temp.loc[temp[\"item_title\"].str.contains(m), \"distance\"] = d\n",
    "            result = result.append(temp, sort = False).sort_values(by = \"id\")\n",
    "\n",
    "    return result"
   ]
  },
  {
   "cell_type": "code",
   "execution_count": 114,
   "metadata": {},
   "outputs": [
    {
     "data": {
      "text/html": [
       "<div>\n",
       "<style scoped>\n",
       "    .dataframe tbody tr th:only-of-type {\n",
       "        vertical-align: middle;\n",
       "    }\n",
       "\n",
       "    .dataframe tbody tr th {\n",
       "        vertical-align: top;\n",
       "    }\n",
       "\n",
       "    .dataframe thead th {\n",
       "        text-align: right;\n",
       "    }\n",
       "</style>\n",
       "<table border=\"1\" class=\"dataframe\">\n",
       "  <thead>\n",
       "    <tr style=\"text-align: right;\">\n",
       "      <th></th>\n",
       "      <th>item_title</th>\n",
       "      <th>id</th>\n",
       "      <th>miss_word</th>\n",
       "      <th>corr_word</th>\n",
       "      <th>distance</th>\n",
       "    </tr>\n",
       "  </thead>\n",
       "  <tbody>\n",
       "    <tr>\n",
       "      <th>1</th>\n",
       "      <td>pochette voyage louis vuiton</td>\n",
       "      <td>1</td>\n",
       "      <td>vuiton</td>\n",
       "      <td>vuitton</td>\n",
       "      <td>0.97</td>\n",
       "    </tr>\n",
       "    <tr>\n",
       "      <th>2</th>\n",
       "      <td>pochette voyage louis vuittonn</td>\n",
       "      <td>2</td>\n",
       "      <td>vuittonn</td>\n",
       "      <td>vuitton</td>\n",
       "      <td>0.98</td>\n",
       "    </tr>\n",
       "    <tr>\n",
       "      <th>4</th>\n",
       "      <td>genuine guchi 1980’s vintage navy blue boston bag</td>\n",
       "      <td>4</td>\n",
       "      <td>guchi</td>\n",
       "      <td>gucci</td>\n",
       "      <td>0.91</td>\n",
       "    </tr>\n",
       "    <tr>\n",
       "      <th>5</th>\n",
       "      <td>genuine gutti 1980’s vintage navy blue boston bag</td>\n",
       "      <td>5</td>\n",
       "      <td>gutti</td>\n",
       "      <td>gucci</td>\n",
       "      <td>0.79</td>\n",
       "    </tr>\n",
       "    <tr>\n",
       "      <th>6</th>\n",
       "      <td>vuittonn and gutti</td>\n",
       "      <td>6</td>\n",
       "      <td>gutti</td>\n",
       "      <td>gucci</td>\n",
       "      <td>0.79</td>\n",
       "    </tr>\n",
       "    <tr>\n",
       "      <th>6</th>\n",
       "      <td>vuittonn and gutti</td>\n",
       "      <td>6</td>\n",
       "      <td>vuittonn</td>\n",
       "      <td>vuitton</td>\n",
       "      <td>0.98</td>\n",
       "    </tr>\n",
       "  </tbody>\n",
       "</table>\n",
       "</div>"
      ],
      "text/plain": [
       "                                          item_title id miss_word corr_word  \\\n",
       "1                       pochette voyage louis vuiton  1    vuiton   vuitton   \n",
       "2                     pochette voyage louis vuittonn  2  vuittonn   vuitton   \n",
       "4  genuine guchi 1980’s vintage navy blue boston bag  4     guchi     gucci   \n",
       "5  genuine gutti 1980’s vintage navy blue boston bag  5     gutti     gucci   \n",
       "6                                 vuittonn and gutti  6     gutti     gucci   \n",
       "6                                 vuittonn and gutti  6  vuittonn   vuitton   \n",
       "\n",
       "   distance  \n",
       "1      0.97  \n",
       "2      0.98  \n",
       "4      0.91  \n",
       "5      0.79  \n",
       "6      0.79  \n",
       "6      0.98  "
      ]
     },
     "execution_count": 114,
     "metadata": {},
     "output_type": "execute_result"
    }
   ],
   "source": [
    "jarowinkler_similarity(df, brand_list, 0.75)"
   ]
  },
  {
   "cell_type": "code",
   "execution_count": null,
   "metadata": {},
   "outputs": [],
   "source": []
  }
 ],
 "metadata": {
  "kernelspec": {
   "display_name": "Python 3",
   "language": "python",
   "name": "python3"
  },
  "language_info": {
   "codemirror_mode": {
    "name": "ipython",
    "version": 3
   },
   "file_extension": ".py",
   "mimetype": "text/x-python",
   "name": "python",
   "nbconvert_exporter": "python",
   "pygments_lexer": "ipython3",
   "version": "3.7.2"
  }
 },
 "nbformat": 4,
 "nbformat_minor": 2
}
